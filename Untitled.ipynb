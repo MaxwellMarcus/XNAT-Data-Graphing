{
 "cells": [
  {
   "cell_type": "code",
   "execution_count": 1,
   "metadata": {},
   "outputs": [],
   "source": [
    "from canvas import Canvas\n",
    "from math import pi\n",
    "\n",
    "canvas = Canvas(width = 950, height = 500)\n",
    "canvas.fill_style = 'green'\n",
    "canvas.fill_rect(50, 0, 150, 175)\n",
    "\n",
    "canvas.begin_path()\n",
    "canvas.move_to(200, 300)\n",
    "canvas.line_to(400, 500)\n",
    "canvas.stroke()\n",
    "\n",
    "canvas.fill_style = 'yellow'\n",
    "canvas.font = 'bold 20px arial'\n",
    "canvas.fill_text('Hello, World!', 500, 100)\n",
    "\n",
    "canvas.fill_style = 'red'\n",
    "canvas.fill_arc(600, 400, 50, 0, pi * 2)"
   ]
  },
  {
   "cell_type": "code",
   "execution_count": 2,
   "metadata": {},
   "outputs": [
    {
     "data": {
      "text/html": [
       "\n",
       "              <canvas width = '950px' height = '500px' id = 'canvas'></canvas>\n",
       "            "
      ],
      "text/plain": [
       "<IPython.core.display.HTML object>"
      ]
     },
     "metadata": {},
     "output_type": "display_data"
    },
    {
     "data": {
      "application/javascript": [
       "\n",
       "          var canvas = document.getElementById('canvas')\n",
       "          var ctx = canvas.getContext('2d')\n",
       "        \n",
       "              ctx.fillStyle = 'green'\n",
       "              ctx.fillRect(50, 0, 150, 175)\n",
       "            \n",
       "            ctx.beginPath()\n",
       "        \n",
       "            ctx.moveTo(200, 300)\n",
       "        \n",
       "            ctx.lineTo(400, 500)\n",
       "        \n",
       "            ctx.stroke_style = \n",
       "            ctx.stroke()\n",
       "        \n",
       "            ctx.font = 'bold 20px arial'\n",
       "            ctx.fillStyle = 'yellow'\n",
       "            ctx.textAlign = ''\n",
       "            ctx.textBaseline = ''\n",
       "            ctx.fillText('Hello, World!', 500, 100)\n",
       "        \n",
       "            ctx.beginPath()\n",
       "            ctx.fillStyle = 'red'\n",
       "            ctx.arc(600, 400, 50, 0, 6.283185307179586)\n",
       "            ctx.fill()\n",
       "        "
      ],
      "text/plain": [
       "<IPython.core.display.Javascript object>"
      ]
     },
     "metadata": {},
     "output_type": "display_data"
    }
   ],
   "source": [
    "canvas()"
   ]
  },
  {
   "cell_type": "code",
   "execution_count": 3,
   "metadata": {},
   "outputs": [
    {
     "data": {
      "text/plain": [
       "\"\\n          var canvas = document.getElementById('canvas')\\n          var ctx = canvas.getContext('2d')\\n        \\n              ctx.fillStyle = 'green'\\n              ctx.fillRect(50, 0, 150, 175)\\n            \\n            ctx.beginPath()\\n        \\n            ctx.moveTo(200, 300)\\n        \\n            ctx.lineTo(400, 500)\\n        \\n            ctx.stroke_style = \\n            ctx.stroke()\\n        \\n            ctx.font = bold 20px arial\\n            ctx.fillStyle = yellow\\n            ctx.textAlign = \\n            ctx.textBaseline = \\n            ctx.fillText(Hello, World!, 500, 100)\\n        \""
      ]
     },
     "execution_count": 3,
     "metadata": {},
     "output_type": "execute_result"
    }
   ],
   "source": [
    "canvas2 = Canvas(width = 950, height = 500)\n",
    "canvas2.draw_image"
   ]
  },
  {
   "cell_type": "code",
   "execution_count": 4,
   "metadata": {},
   "outputs": [
    {
     "data": {
      "application/javascript": [
       "\n",
       "IPython.notebook.kernel.execute(\"my_out = 'hello world'\");\n"
      ],
      "text/plain": [
       "<IPython.core.display.Javascript object>"
      ]
     },
     "execution_count": 4,
     "metadata": {},
     "output_type": "execute_result"
    }
   ],
   "source": [
    "import IPython\n",
    "\n",
    "o = 0\n",
    "def func():\n",
    "    global o\n",
    "    o = 4\n",
    "\n",
    "my_js = \"\"\"\n",
    "IPython.notebook.kernel.execute(\"my_out = 'hello world'\");\n",
    "\"\"\"\n",
    "IPython.display.Javascript(my_js)"
   ]
  },
  {
   "cell_type": "code",
   "execution_count": 5,
   "metadata": {},
   "outputs": [
    {
     "data": {
      "text/plain": [
       "'hello world'"
      ]
     },
     "execution_count": 5,
     "metadata": {},
     "output_type": "execute_result"
    }
   ],
   "source": [
    "my_out"
   ]
  }
 ],
 "metadata": {
  "kernelspec": {
   "display_name": "Python 3",
   "language": "python",
   "name": "python3"
  },
  "language_info": {
   "codemirror_mode": {
    "name": "ipython",
    "version": 3
   },
   "file_extension": ".py",
   "mimetype": "text/x-python",
   "name": "python",
   "nbconvert_exporter": "python",
   "pygments_lexer": "ipython3",
   "version": "3.8.3"
  }
 },
 "nbformat": 4,
 "nbformat_minor": 4
}
